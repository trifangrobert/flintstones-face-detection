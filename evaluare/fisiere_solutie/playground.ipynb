{
 "cells": [
  {
   "cell_type": "code",
   "execution_count": 4,
   "metadata": {},
   "outputs": [],
   "source": [
    "import numpy as np"
   ]
  },
  {
   "cell_type": "code",
   "execution_count": 5,
   "metadata": {},
   "outputs": [],
   "source": [
    "solution_path = \"./task1/\""
   ]
  },
  {
   "cell_type": "code",
   "execution_count": 6,
   "metadata": {},
   "outputs": [
    {
     "name": "stdout",
     "output_type": "stream",
     "text": [
      "(7146, 4)\n",
      "(7146,)\n",
      "(7146,)\n"
     ]
    }
   ],
   "source": [
    "detections = np.load(solution_path + \"detections_all_faces.npy\",allow_pickle=True,fix_imports=True,encoding='latin1')\n",
    "print(detections.shape)\n",
    "\n",
    "scores = np.load(solution_path + \"scores_all_faces.npy\",allow_pickle=True,fix_imports=True,encoding='latin1')\n",
    "print(scores.shape)\n",
    "\n",
    "file_names = np.load(solution_path + \"file_names_all_faces.npy\",allow_pickle=True,fix_imports=True,encoding='latin1')\n",
    "print(file_names.shape)"
   ]
  },
  {
   "cell_type": "code",
   "execution_count": 9,
   "metadata": {},
   "outputs": [
    {
     "data": {
      "text/plain": [
       "array(['0001.jpg', '0001.jpg', '0001.jpg', '0001.jpg', '0001.jpg',\n",
       "       '0001.jpg', '0001.jpg', '0001.jpg', '0001.jpg', '0001.jpg'],\n",
       "      dtype='<U32')"
      ]
     },
     "execution_count": 9,
     "metadata": {},
     "output_type": "execute_result"
    }
   ],
   "source": [
    "file_names[:10]"
   ]
  }
 ],
 "metadata": {
  "kernelspec": {
   "display_name": "aienv",
   "language": "python",
   "name": "python3"
  },
  "language_info": {
   "codemirror_mode": {
    "name": "ipython",
    "version": 3
   },
   "file_extension": ".py",
   "mimetype": "text/x-python",
   "name": "python",
   "nbconvert_exporter": "python",
   "pygments_lexer": "ipython3",
   "version": "3.11.3"
  }
 },
 "nbformat": 4,
 "nbformat_minor": 2
}
